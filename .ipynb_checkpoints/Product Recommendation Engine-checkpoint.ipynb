{
 "cells": [
  {
   "cell_type": "code",
   "execution_count": 1,
   "metadata": {},
   "outputs": [],
   "source": [
    "import pandas as pd\n",
    "import numpy as np \n",
    "import random\n",
    "from statistics import mean\n",
    "import matplotlib.pyplot as plt\n",
    "import seaborn as sns\n",
    "import plotly.express as px\n",
    "from plotly.subplots import make_subplots"
   ]
  },
  {
   "cell_type": "markdown",
   "metadata": {},
   "source": [
    "## Datasets Loading and Preperation"
   ]
  },
  {
   "cell_type": "code",
   "execution_count": 2,
   "metadata": {},
   "outputs": [],
   "source": [
    "products = pd.read_csv(\"bigbasket_products.csv\")\n",
    "ratings = pd.read_csv(\"ratings.csv\")"
   ]
  },
  {
   "cell_type": "code",
   "execution_count": 3,
   "metadata": {},
   "outputs": [],
   "source": [
    "ratings.columns =['UserId','ProductId', 'Rating', 'Timestamp']"
   ]
  },
  {
   "cell_type": "code",
   "execution_count": 4,
   "metadata": {},
   "outputs": [],
   "source": [
    "def print_top_unique(listItem,n):\n",
    "    rating_filter_list = []\n",
    "    for i in range(0, n):\n",
    "        rating_filter_list.append(listItem[i])\n",
    "    return rating_filter_list\n",
    "\n",
    "rating_filter_list = print_top_unique(ratings['ProductId'].unique(),27555)"
   ]
  },
  {
   "cell_type": "code",
   "execution_count": 5,
   "metadata": {},
   "outputs": [],
   "source": [
    "ratings = ratings[ratings.ProductId.isin(rating_filter_list)]\n",
    "rating_user_filter_list = print_top_unique(ratings['UserId'].unique(),20000)"
   ]
  },
  {
   "cell_type": "code",
   "execution_count": 6,
   "metadata": {},
   "outputs": [],
   "source": [
    "products['ProductId'] = pd.unique(ratings['ProductId'])"
   ]
  },
  {
   "cell_type": "code",
   "execution_count": 7,
   "metadata": {},
   "outputs": [],
   "source": [
    "randomlist = []\n",
    "for i in range(0,443293):\n",
    "    n = random.randint(1,20000)\n",
    "    randomlist.append(n)\n",
    "ratings ['uid'] = randomlist\n",
    "ratings = ratings.drop(['UserId','Timestamp'], axis=1)\n",
    "products = products.drop(['p_url','eancode'], axis=1)"
   ]
  },
  {
   "cell_type": "code",
   "execution_count": 8,
   "metadata": {},
   "outputs": [
    {
     "data": {
      "text/html": [
       "<div>\n",
       "<style scoped>\n",
       "    .dataframe tbody tr th:only-of-type {\n",
       "        vertical-align: middle;\n",
       "    }\n",
       "\n",
       "    .dataframe tbody tr th {\n",
       "        vertical-align: top;\n",
       "    }\n",
       "\n",
       "    .dataframe thead th {\n",
       "        text-align: right;\n",
       "    }\n",
       "</style>\n",
       "<table border=\"1\" class=\"dataframe\">\n",
       "  <thead>\n",
       "    <tr style=\"text-align: right;\">\n",
       "      <th></th>\n",
       "      <th>Unnamed: 0</th>\n",
       "      <th>product</th>\n",
       "      <th>category</th>\n",
       "      <th>sub_category</th>\n",
       "      <th>brand</th>\n",
       "      <th>sale_price</th>\n",
       "      <th>market_price</th>\n",
       "      <th>image_url</th>\n",
       "      <th>type</th>\n",
       "      <th>rating</th>\n",
       "      <th>description</th>\n",
       "      <th>ProductId</th>\n",
       "    </tr>\n",
       "  </thead>\n",
       "  <tbody>\n",
       "    <tr>\n",
       "      <th>5129</th>\n",
       "      <td>5129</td>\n",
       "      <td>Underarm Roll On Deodorant For Women - Powder Dry</td>\n",
       "      <td>Beauty &amp; Hygiene</td>\n",
       "      <td>Fragrances &amp; Deos</td>\n",
       "      <td>Rexona</td>\n",
       "      <td>114.75</td>\n",
       "      <td>135.0</td>\n",
       "      <td>https://www.bigbasket.com/media/uploads/p/s/40...</td>\n",
       "      <td>Women's Deodorants</td>\n",
       "      <td>4.2</td>\n",
       "      <td>Did you know, sweat trapped in your underarms ...</td>\n",
       "      <td>B00004ZCJE</td>\n",
       "    </tr>\n",
       "  </tbody>\n",
       "</table>\n",
       "</div>"
      ],
      "text/plain": [
       "      Unnamed: 0                                            product  \\\n",
       "5129        5129  Underarm Roll On Deodorant For Women - Powder Dry   \n",
       "\n",
       "              category       sub_category   brand  sale_price  market_price  \\\n",
       "5129  Beauty & Hygiene  Fragrances & Deos  Rexona      114.75         135.0   \n",
       "\n",
       "                                              image_url                type  \\\n",
       "5129  https://www.bigbasket.com/media/uploads/p/s/40...  Women's Deodorants   \n",
       "\n",
       "      rating                                        description   ProductId  \n",
       "5129     4.2  Did you know, sweat trapped in your underarms ...  B00004ZCJE  "
      ]
     },
     "execution_count": 8,
     "metadata": {},
     "output_type": "execute_result"
    }
   ],
   "source": [
    "ratings[ratings['uid']==20000]\n",
    "products[products['ProductId']=='B00004ZCJE']"
   ]
  },
  {
   "cell_type": "code",
   "execution_count": null,
   "metadata": {},
   "outputs": [],
   "source": [
    "average_mean = []\n",
    "for i in range(0, len(products)):  \n",
    "    average = mean(ratings[ratings['ProductId']==products['ProductId'][i]]['Rating'])\n",
    "    average_mean.append(average)"
   ]
  },
  {
   "cell_type": "code",
   "execution_count": null,
   "metadata": {},
   "outputs": [],
   "source": [
    "average_mean = [ round(elem, 1) for elem in average_mean ]\n",
    "products['overall_rating'] = average_mean\n",
    "products = products.drop(['rating'], axis=1)\n",
    "products.drop(products.columns[products.columns.str.contains('unnamed',case = False)],axis = 1, inplace = True)"
   ]
  },
  {
   "cell_type": "code",
   "execution_count": null,
   "metadata": {},
   "outputs": [],
   "source": [
    "products"
   ]
  },
  {
   "cell_type": "markdown",
   "metadata": {},
   "source": [
    "## Exploratory data analysis"
   ]
  },
  {
   "cell_type": "code",
   "execution_count": null,
   "metadata": {},
   "outputs": [],
   "source": [
    "products.describe()"
   ]
  },
  {
   "cell_type": "code",
   "execution_count": null,
   "metadata": {},
   "outputs": [],
   "source": [
    "products.info()"
   ]
  },
  {
   "cell_type": "code",
   "execution_count": null,
   "metadata": {},
   "outputs": [],
   "source": [
    "products.isnull().sum()"
   ]
  },
  {
   "cell_type": "code",
   "execution_count": null,
   "metadata": {},
   "outputs": [],
   "source": [
    "products = products[products['product'].notna()]"
   ]
  },
  {
   "cell_type": "code",
   "execution_count": null,
   "metadata": {},
   "outputs": [],
   "source": [
    "products.isnull().sum()"
   ]
  },
  {
   "cell_type": "code",
   "execution_count": null,
   "metadata": {},
   "outputs": [],
   "source": [
    "products['type'].unique()"
   ]
  },
  {
   "cell_type": "code",
   "execution_count": null,
   "metadata": {},
   "outputs": [],
   "source": [
    "\n",
    "fig = make_subplots(rows=1, cols=2)\n",
    "\n",
    "category_counts = products['category'].value_counts()\n",
    "category_counts_df =pd.DataFrame({'Category':category_counts.index, \"product\": category_counts.values})\n",
    "fig1 = px.bar(category_counts_df, x=\"Category\", y=\"product\", color='product' , title=\"Category wise sales count\", color_continuous_scale='oranges',\n",
    " text_auto=True,)\n",
    "\n",
    "category_amount_sales = products.groupby('category')['sale_price'].sum()\n",
    "category_amount_sales =pd.DataFrame({'Category':category_amount_sales.index, \"sales_price\": category_amount_sales.values})\n",
    "category_amount_sales = category_amount_sales.sort_values('sales_price',ascending=False)\n",
    "fig2 = px.bar(category_amount_sales, x='Category' , y=\"sales_price\", color='sales_price' , title=\"Category wise Total sales\", color_continuous_scale='oranges',\n",
    " text_auto=True,)\n",
    "\n",
    "fig.add_trace(fig1['data'][0], row=1, col=1)\n",
    "fig.add_trace(fig2['data'][0], row=1, col=2)\n",
    "fig.update_layout(\n",
    "    title='Category wise sales count and totla sales chart',\n",
    ")\n",
    "\n",
    "fig.show()"
   ]
  },
  {
   "cell_type": "code",
   "execution_count": null,
   "metadata": {},
   "outputs": [],
   "source": [
    "fig = make_subplots(rows=1, cols=2)\n",
    "\n",
    "category_counts = products['sub_category'].value_counts()\n",
    "category_counts_df =pd.DataFrame({'sub_category':category_counts.index, \"Value\": category_counts.values})[0:15]\n",
    "fig1 = px.bar(category_counts_df, x=\"sub_category\", y=\"Value\", color='Value' , title=\"Sub-category wise sales count\", color_continuous_scale='oranges',\n",
    " text_auto=True,)\n",
    "\n",
    "category_amount_sales = products.groupby('sub_category')['sale_price'].sum()\n",
    "category_amount_sales =pd.DataFrame({'sub_category':category_amount_sales.index, \"sales_price\": category_amount_sales.values})[0:15]\n",
    "category_amount_sales = category_amount_sales.sort_values('sales_price',ascending=False)\n",
    "fig2 = px.bar(category_amount_sales, x='sub_category' , y=\"sales_price\", color='sales_price' , title=\"Sub-category wise Total sales\", color_continuous_scale='oranges',\n",
    " text_auto=True,)\n",
    "\n",
    "fig.add_trace(fig1['data'][0], row=1, col=1)\n",
    "fig.add_trace(fig2['data'][0], row=1, col=2)\n",
    "fig.update_layout(\n",
    "    title='Sub-category wise sales count and totla sales chart',\n",
    ")\n",
    "\n",
    "fig.show()"
   ]
  },
  {
   "cell_type": "code",
   "execution_count": null,
   "metadata": {},
   "outputs": [],
   "source": [
    "category_amount_sales = products.groupby('brand')['sale_price'].sum()\n",
    "category_amount_sales =pd.DataFrame({'brand':category_amount_sales.index, \"sales_price\": category_amount_sales.values})\n",
    "\n",
    "category_amount_sales = category_amount_sales.sort_values('sales_price',ascending=False)[0:30]\n",
    "fig = px.bar(category_amount_sales, x='brand' , y=\"sales_price\", color='sales_price' , title=\"Brand wise Total sales\", color_continuous_scale='oranges',\n",
    " text_auto=True,)\n",
    "fig.show()"
   ]
  },
  {
   "cell_type": "code",
   "execution_count": null,
   "metadata": {},
   "outputs": [],
   "source": [
    "category_amount_sales = products.groupby('product')['sale_price'].sum()\n",
    "category_amount_sales =pd.DataFrame({'product':category_amount_sales.index, \"sales_price\": category_amount_sales.values})\n",
    "\n",
    "category_amount_sales = category_amount_sales.sort_values('sales_price',ascending=False)[0:20]\n",
    "fig = px.bar(category_amount_sales, x='product' , y=\"sales_price\", color='sales_price' , title=\"Product wise Total sales\", color_continuous_scale='oranges',\n",
    " text_auto=True,)\n",
    "fig.show()"
   ]
  },
  {
   "cell_type": "code",
   "execution_count": null,
   "metadata": {},
   "outputs": [],
   "source": [
    "category_amount_sales = products['overall_rating'].value_counts()\n",
    "category_amount_sales =pd.DataFrame({'rating':category_amount_sales.index, \"Value\": category_amount_sales.values})\n",
    "category_amount_sales = category_amount_sales.sort_values('Value',ascending=False)\n",
    "fig = px.bar(category_amount_sales, x='rating' , y=\"Value\", color='Value' , title=\"Rating wise product count\", color_continuous_scale='oranges',\n",
    " text_auto=True,)\n",
    "fig.show()"
   ]
  },
  {
   "cell_type": "code",
   "execution_count": null,
   "metadata": {},
   "outputs": [],
   "source": [
    "discounted_product = products[products['market_price'] - products['sale_price'] != 0]\n",
    "discounted_product"
   ]
  },
  {
   "cell_type": "code",
   "execution_count": null,
   "metadata": {},
   "outputs": [],
   "source": [
    "highrated = products.query('overall_rating > 4', inplace=False)\n",
    "print(\"Number of products with more than 4 rating is\",highrated.shape[0])"
   ]
  },
  {
   "cell_type": "code",
   "execution_count": null,
   "metadata": {},
   "outputs": [],
   "source": [
    "fig = plt.figure(figsize=(20,10))\n",
    "\n",
    "sns.kdeplot(discounted_product['overall_rating'], shade=True)\n",
    "sns.kdeplot(products['overall_rating'], shade =True)\n",
    "plt.xlabel(\"Ratings\",fontsize=15, weight='semibold')\n",
    "plt.ylabel(\"Density\",fontsize=15, weight='semibold')\n",
    "plt.title(\"Relative distribution of all products with discounted products\",fontsize=15, weight='semibold')\n",
    "fig.legend()"
   ]
  }
 ],
 "metadata": {
  "kernelspec": {
   "display_name": "Python 3",
   "language": "python",
   "name": "python3"
  },
  "language_info": {
   "codemirror_mode": {
    "name": "ipython",
    "version": 3
   },
   "file_extension": ".py",
   "mimetype": "text/x-python",
   "name": "python",
   "nbconvert_exporter": "python",
   "pygments_lexer": "ipython3",
   "version": "3.8.3"
  }
 },
 "nbformat": 4,
 "nbformat_minor": 4
}
